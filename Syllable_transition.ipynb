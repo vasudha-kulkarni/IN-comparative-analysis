{
 "cells": [
  {
   "cell_type": "markdown",
   "metadata": {},
   "source": [
    "This file has the code to obtain syllable transition values from Onset-Offset data, and create a graph based on it\n",
    "\n",
    "Date: 20/9/2022"
   ]
  },
  {
   "cell_type": "code",
   "execution_count": 3,
   "metadata": {},
   "outputs": [],
   "source": [
    "import math\n",
    "import pandas\n",
    "import os\n",
    "import numpy as np"
   ]
  },
  {
   "cell_type": "code",
   "execution_count": 4,
   "metadata": {},
   "outputs": [],
   "source": [
    "#set directory and open the saved data file\n",
    "os.chdir('D:\\\\4th Year\\\\Semester 7\\\\BI4313 Sem Project\\\\IN-comparative-analysis\\\\IN-comparative-analysis\\\\OnsetOffsetFiles')\n",
    "file = open(\"M09.txt\", 'r')"
   ]
  },
  {
   "cell_type": "code",
   "execution_count": 117,
   "metadata": {},
   "outputs": [],
   "source": [
    "#Import text file as csv, choose header false and give column names manually, because they don't seem to align\n",
    "#Use 'print(data.columns)' to get the list of column names\n",
    "data = pandas.read_csv('M09.txt', sep = '\\t', header=None, names = ['FileName', 'Syll #', 'Syll Label',\n",
    "       ' Syll Onset (ms)', ' Syll Offset (ms)', ' Syll Duration (sec)', ' Mean Frequency (Hz)',\n",
    "       ' Entropy', 'Log Amplitude (dB)', 'Pitch Goodness', 'FrequencyModulation',\n",
    "       'AmplitudeModulation', 'EntropyVariance'])\n",
    "\n",
    "#Drop the first row because column names are repeated there\n",
    "data = data.iloc[1:, :]"
   ]
  },
  {
   "cell_type": "code",
   "execution_count": 118,
   "metadata": {},
   "outputs": [],
   "source": [
    "#To get the occurrence of number of syllables\n",
    "#And confirm that this is the same as row_sum of trans_matrix\n",
    "\n",
    "syl_n = data['Syll Label'].value_counts()\n",
    "\n",
    "#syl_n"
   ]
  },
  {
   "cell_type": "code",
   "execution_count": 126,
   "metadata": {},
   "outputs": [],
   "source": [
    "syl = data['Syll Label']\n",
    "#print(syl)\n",
    "\n",
    "#Get the set of unique syllables for the individual with their own index (so convert array to list)\n",
    "uniq_syl = syl.unique()\n",
    "uniq_syl = uniq_syl.tolist()\n",
    "#print(uniq_syl)\n",
    "\n",
    "#Get the number of syllables to create a N x N matrix for transition\n",
    "N = len(uniq_syl)\n",
    "trans_matrix = np.array(np.zeros((N, N), dtype = int))\n",
    "\n",
    "#type(trans_matrix)\n",
    "#uniq_syl.index('a')\n"
   ]
  },
  {
   "cell_type": "code",
   "execution_count": 127,
   "metadata": {},
   "outputs": [],
   "source": [
    "\n",
    "#Convert 'object' type to array to get indices\n",
    "syl = np.array(syl)\n",
    "\n",
    "#This gives the number of syllable transitions\n",
    "for i in range(len(syl)-1):\n",
    "    a = uniq_syl.index(syl[i])\n",
    "    b = uniq_syl.index(syl[i+1])\n",
    "    trans_matrix[a, b] += 1\n",
    "\n",
    "#trans_matrix"
   ]
  },
  {
   "cell_type": "code",
   "execution_count": 128,
   "metadata": {},
   "outputs": [],
   "source": [
    "#Divide the number of transitions by total number of occurrence of that syllable to get transition probability\n",
    "trans_matrix = (trans_matrix.T/trans_matrix.sum(axis=1)).T\n",
    "trans_matrix = np.around(trans_matrix, 2)\n",
    "\n",
    "#print(np.sum(trans_matrix[0,]))\n",
    "#print(trans_matrix)"
   ]
  },
  {
   "cell_type": "code",
   "execution_count": 129,
   "metadata": {},
   "outputs": [],
   "source": [
    "#Add the labels of syllables as an extra row and column\n",
    "syl_name = np.array(uniq_syl)\n",
    "\n",
    "trans_prob = np.concatenate([[syl_name], trans_matrix])\n",
    "#trans_prob"
   ]
  },
  {
   "cell_type": "code",
   "execution_count": 130,
   "metadata": {},
   "outputs": [],
   "source": [
    "#Add a '0' in the beginning to insert this as a column\n",
    "syl_name = np.concatenate([[0], syl_name])\n",
    "\n",
    "trans_prob = np.insert(trans_prob, 0, syl_name, axis = 1)\n",
    "#trans_prob\n",
    "\n",
    "#Convert to dataframe to save as .csv file\n",
    "transition_probability = pandas.DataFrame(trans_prob)\n",
    "transition_probability.to_csv('M09_trans_prob.csv', header = False, index = False)\n",
    "\n",
    "#There are values lesser than 0.05 that can be removed through an IF loop perhaps\n",
    "#But we can keep the values and code the diagram to not show them\n",
    "#This file contains the low-occuring syllables as well"
   ]
  },
  {
   "cell_type": "code",
   "execution_count": 132,
   "metadata": {},
   "outputs": [],
   "source": [
    "\n"
   ]
  }
 ],
 "metadata": {
  "kernelspec": {
   "display_name": "Python 3.9.7 ('base')",
   "language": "python",
   "name": "python3"
  },
  "language_info": {
   "codemirror_mode": {
    "name": "ipython",
    "version": 3
   },
   "file_extension": ".py",
   "mimetype": "text/x-python",
   "name": "python",
   "nbconvert_exporter": "python",
   "pygments_lexer": "ipython3",
   "version": "3.9.7"
  },
  "orig_nbformat": 4,
  "vscode": {
   "interpreter": {
    "hash": "008563563e781916d6359c24295d5508987d9d4a8f497f916ed83e23a440f2f0"
   }
  }
 },
 "nbformat": 4,
 "nbformat_minor": 2
}
