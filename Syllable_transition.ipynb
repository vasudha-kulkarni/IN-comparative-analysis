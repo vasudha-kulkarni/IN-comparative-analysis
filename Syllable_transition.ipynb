{
 "cells": [
  {
   "cell_type": "markdown",
   "metadata": {},
   "source": [
    "This file has the code to obtain syllable transition values from Onset-Offset data, and process the file\n",
    "\n",
    "Date: 20/9/2022\n",
    "\n",
    "Problems:\n",
    "1. Bouts are picked if > 2s or lesser than -50s (which is based on BCC songs). This needs to be modified for each individual, and won't work if a song is cut up in between\n",
    "2. Rare/esoteric syllables have not been removed\n",
    "3. 'End' -> 'Start' transition probability value is 1 in the output file. This needs to be changed"
   ]
  },
  {
   "cell_type": "code",
   "execution_count": 1,
   "metadata": {},
   "outputs": [],
   "source": [
    "import math\n",
    "import pandas\n",
    "import os\n",
    "import numpy as np"
   ]
  },
  {
   "cell_type": "code",
   "execution_count": 2,
   "metadata": {},
   "outputs": [],
   "source": [
    "#set directory\n",
    "os.chdir('D:\\\\4th Year\\\\Semester 7\\\\BI4313 Sem Project\\\\IN-comparative-analysis\\\\IN-comparative-analysis\\\\OnsetOffsetFiles')"
   ]
  },
  {
   "cell_type": "code",
   "execution_count": 214,
   "metadata": {},
   "outputs": [],
   "source": [
    "#Import text file as csv, choose header false and give column names manually, because they don't seem to align\n",
    "#Use 'print(data.columns)' to get the list of column names\n",
    "data = pandas.read_csv('ZF_ylw95ylw29.txt', sep = '\\t', header=None, names = ['FileName', 'Syll #', 'Syll Label',\n",
    "       ' Syll Onset (ms)', ' Syll Offset (ms)', ' Syll Duration (sec)', ' Mean Frequency (Hz)',\n",
    "       ' Entropy', 'Log Amplitude (dB)', 'Pitch Goodness', 'FrequencyModulation',\n",
    "       'AmplitudeModulation', 'EntropyVariance', 'Fundamental Frequency (Hz)', 'RMS Amplitude'])\n",
    "\n",
    "#Drop the first row because column names are repeated there\n",
    "data = data.iloc[1:, :]\n",
    "\n",
    "#Convert onset, offset and syllable duration to float type\n",
    "data[' Syll Onset (ms)'] = data[' Syll Onset (ms)'].astype(float)\n",
    "data[' Syll Offset (ms)'] = data[' Syll Offset (ms)'].astype(float)\n",
    "data[' Syll Duration (sec)'] = data[' Syll Duration (sec)'].astype(float)\n",
    "#data[' Syll Offset (ms)']\n",
    "\n",
    "#Add a 'start' label in the beginning of the dataframe\n",
    "start_row = [0, 0, 'Start', 0, 0, 0, 0, 0, 0, 0, 0, 0, 0, 0, 0]\n",
    "data = pandas.DataFrame(np.insert(data.values, 0, start_row, axis=0))\n",
    "\n",
    "#Give column labels again\n",
    "data.columns = ['FileName', 'Syll #', 'Syll Label',\n",
    "       ' Syll Onset (ms)', ' Syll Offset (ms)', ' Syll Duration (sec)', ' Mean Frequency (Hz)',\n",
    "       ' Entropy', 'Log Amplitude (dB)', 'Pitch Goodness', 'FrequencyModulation',\n",
    "       'AmplitudeModulation', 'EntropyVariance', 'Fundamental Frequency (Hz)', 'RMS Amplitude']"
   ]
  },
  {
   "cell_type": "markdown",
   "metadata": {},
   "source": [
    "Major changes in ZF OnsetOffsetFiles - \n",
    "15 columns, instead of 13. So, ['Fundamental Frequency (Hz)', 'RMS Amplitude'] added at the end. Start and End row modified by adding two extra zeroes.\n"
   ]
  },
  {
   "cell_type": "code",
   "execution_count": 215,
   "metadata": {},
   "outputs": [],
   "source": [
    "\n",
    "#t_offset = data[' Syll Offset (ms)']\n",
    "#new_row = [0, 0, 'Start', 0, 0, 0, 0, 0, 0, 0, 0, 0, 0]\n",
    "\n",
    "#for i in range(1, len(data)-1):\n",
    "#    diff = t_offset[i+1] - t_offset[i]\n",
    "#    if diff > 2000:\n",
    "#        data = pandas.DataFrame(np.insert(data.values, i, new_row, axis=0))\n",
    "\n",
    "#Problem - this code is not updating index number as it adds a 'start', so from the 2nd break onwards,\n",
    "#the 'start' label is misplaced by one row. To correct this, I'll create a list of indices and insert\n",
    "#the 'start' row using this list"
   ]
  },
  {
   "cell_type": "code",
   "execution_count": 216,
   "metadata": {},
   "outputs": [],
   "source": [
    "#To add a 'start' and 'end' in syllable label column after end of every bout\n",
    "\n",
    "t_offset = data[' Syll Offset (ms)']\n",
    "new_row = [[0, 0, 'End', 0, 0, 0, 0, 0, 0, 0, 0, 0, 0, 0, 0],\n",
    "        [0, 0, 'Start', 0, 0, 0, 0, 0, 0, 0, 0, 0, 0, 0, 0]]\n",
    "\n",
    "#Create a list of indices where the labels should be inserted\n",
    "#If the condition was just 'diff > 2000', the songs that start in the next file are not picked up\n",
    "#So, add the condition that there's a break when it moves from one file to another\n",
    "#Problem: This wouldn't work for songs that are split up across files\n",
    "\n",
    "#Use 'diff < - 50000' for BCC, because most of their songs are contained within files.\n",
    "\n",
    "index_list = []\n",
    "for i in range(1, len(data)-1):\n",
    "    diff = t_offset[i+1] - t_offset[i]\n",
    "    if diff > 2000 or diff < -3000:\n",
    "        index_list.append(i)\n",
    "#print(index_list)\n",
    "\n",
    "#So now we have a list of indices where 'start' row should be inserted\n",
    "#Adjust the index to correct for where the row will be inserted\n",
    "#'2i' because we're adding new rows, and '+1' because of the initial 'start' row\n",
    "for i in range(len(index_list)):\n",
    "    index_list[i] += (2*i + 1)\n",
    "\n",
    "#Insert the new_row at these indices\n",
    "#PS. If this doesn't make sense, remove the correction, do a simple for loop and see what happens\n",
    "for i in index_list:\n",
    "    data = pandas.DataFrame(np.insert(data.values, i, new_row, axis=0))\n",
    "\n",
    "#To add an 'End' label at the end\n",
    "end_row = [[0, 0, 'End', 0, 0, 0, 0, 0, 0, 0, 0, 0, 0, 0, 0]]\n",
    "data = pandas.DataFrame(np.insert(data.values, len(data), end_row, axis=0))\n",
    "\n",
    "#Give column labels again\n",
    "data.columns = ['FileName', 'Syll #', 'Syll Label',\n",
    "       ' Syll Onset (ms)', ' Syll Offset (ms)', ' Syll Duration (sec)', ' Mean Frequency (Hz)',\n",
    "       ' Entropy', 'Log Amplitude (dB)', 'Pitch Goodness', 'FrequencyModulation',\n",
    "       'AmplitudeModulation', 'EntropyVariance', 'Fundamental Frequency (Hz)', 'RMS Amplitude']\n",
    "\n",
    "#To confirm\n",
    "#print(data)\n",
    "#data.to_csv('BCC_M21_trans_prob_start_end.csv', header = False, index = False)"
   ]
  },
  {
   "cell_type": "code",
   "execution_count": 217,
   "metadata": {},
   "outputs": [
    {
     "data": {
      "text/plain": [
       "i        865\n",
       "a        328\n",
       "b        325\n",
       "c        310\n",
       "d        263\n",
       "j        117\n",
       "Start    105\n",
       "End      105\n",
       "L         79\n",
       "k         38\n",
       "s         15\n",
       "p         10\n",
       "Z          6\n",
       "n          2\n",
       "S          1\n",
       "x          1\n",
       "y          1\n",
       "K          1\n",
       "Name: Syll Label, dtype: int64"
      ]
     },
     "execution_count": 217,
     "metadata": {},
     "output_type": "execute_result"
    }
   ],
   "source": [
    "#To get the occurrence of number of syllables\n",
    "#And confirm that this is the same as row_sum of trans_matrix\n",
    "\n",
    "syl_n = data['Syll Label'].value_counts()\n",
    "\n",
    "syl_n"
   ]
  },
  {
   "cell_type": "code",
   "execution_count": 218,
   "metadata": {},
   "outputs": [],
   "source": [
    "syl = data['Syll Label']\n",
    "#print(syl)\n",
    "\n",
    "#Get the set of unique syllables for the individual with their own index (so convert array to list)\n",
    "uniq_syl = syl.unique()\n",
    "uniq_syl = uniq_syl.tolist()\n",
    "#print(uniq_syl)\n",
    "\n",
    "#Get the number of syllables to create a N x N matrix for transition\n",
    "N = len(uniq_syl)\n",
    "trans_matrix = np.array(np.zeros((N, N), dtype = int))\n",
    "\n",
    "#uniq_syl.index('a')\n"
   ]
  },
  {
   "cell_type": "code",
   "execution_count": 219,
   "metadata": {},
   "outputs": [],
   "source": [
    "\n",
    "#Convert 'object' type to array to get indices\n",
    "syl = np.array(syl)\n",
    "\n",
    "#This gives the number of syllable transitions\n",
    "for i in range(len(syl)-1):\n",
    "    a = uniq_syl.index(syl[i])\n",
    "    b = uniq_syl.index(syl[i+1])\n",
    "    trans_matrix[a, b] += 1\n",
    "\n",
    "#trans_matrix"
   ]
  },
  {
   "cell_type": "code",
   "execution_count": 220,
   "metadata": {},
   "outputs": [],
   "source": [
    "#Divide the number of transitions by total number of occurrence of that syllable to get transition probability\n",
    "trans_matrix = (trans_matrix.T/trans_matrix.sum(axis=1)).T\n",
    "trans_matrix = np.around(trans_matrix, 2)\n",
    "\n",
    "#print(np.sum(trans_matrix[0,]))\n",
    "#print(trans_matrix)"
   ]
  },
  {
   "cell_type": "code",
   "execution_count": 221,
   "metadata": {},
   "outputs": [],
   "source": [
    "#To remove values less than 0.05 \n",
    "#Skip this if you want to keep all the values\n",
    "\n",
    "#SKIP FOR BENGALESE FINCHES\n",
    "#For Bengalese finches, the syllables repeat so many times in a song that trans_prob to 'End' is always < 0.05\n",
    "\n",
    "for i in range(len(trans_matrix)):\n",
    "    for j in range(len(trans_matrix)):\n",
    "        if trans_matrix[i, j] < 0.05:\n",
    "            trans_matrix[i, j] = 0"
   ]
  },
  {
   "cell_type": "code",
   "execution_count": 222,
   "metadata": {},
   "outputs": [],
   "source": [
    "#Add the labels of syllables as an extra row and column\n",
    "#While doing this, it's better to replace 'start' here with 'end' so that notes don't connect back to 'start'\n",
    "syl_name = np.array(uniq_syl)\n",
    "\n",
    "trans_prob = np.concatenate([[syl_name], trans_matrix])\n",
    "#trans_prob"
   ]
  },
  {
   "cell_type": "code",
   "execution_count": 223,
   "metadata": {},
   "outputs": [],
   "source": [
    "#Add a '0' in the beginning to insert this as a column\n",
    "syl_name = np.concatenate([[0], syl_name])\n",
    "\n",
    "trans_prob = np.insert(trans_prob, 0, syl_name, axis = 1)\n",
    "#trans_prob\n",
    "\n",
    "#Convert to dataframe to save as .csv file - make sure to change the name!\n",
    "transition_probability = pandas.DataFrame(trans_prob)\n",
    "transition_probability.to_csv('ZF_ylw95ylw29_transition_probability.csv', header = False, index = False)\n",
    "\n",
    "#Remember: Delete End->Start = 1 value from the file\n",
    "#This file contains the low-occuring syllables as well"
   ]
  }
 ],
 "metadata": {
  "kernelspec": {
   "display_name": "Python 3.9.7 ('base')",
   "language": "python",
   "name": "python3"
  },
  "language_info": {
   "codemirror_mode": {
    "name": "ipython",
    "version": 3
   },
   "file_extension": ".py",
   "mimetype": "text/x-python",
   "name": "python",
   "nbconvert_exporter": "python",
   "pygments_lexer": "ipython3",
   "version": "3.9.7"
  },
  "orig_nbformat": 4,
  "vscode": {
   "interpreter": {
    "hash": "008563563e781916d6359c24295d5508987d9d4a8f497f916ed83e23a440f2f0"
   }
  }
 },
 "nbformat": 4,
 "nbformat_minor": 2
}
