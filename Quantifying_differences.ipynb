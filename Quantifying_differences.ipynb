{
 "cells": [
  {
   "cell_type": "markdown",
   "metadata": {},
   "source": [
    "This file contains code to quantify differences in song structure and sequence based on sequence linearity, consistency and stereotypy [Sakata and Brainard 2006] and transition entropy [Scharff and Nottebohm 1991].\n",
    "\n",
    "Date: 13/10/22"
   ]
  },
  {
   "cell_type": "code",
   "execution_count": 89,
   "metadata": {},
   "outputs": [],
   "source": [
    "import math\n",
    "import pandas\n",
    "import os\n",
    "from tqdm import tqdm\n",
    "import numpy as np\n",
    "import networkx as nx\n",
    "import matplotlib.pyplot as plt"
   ]
  },
  {
   "cell_type": "code",
   "execution_count": 90,
   "metadata": {},
   "outputs": [],
   "source": [
    "#set directory\n",
    "os.chdir('D:\\\\4th Year\\\\Semester 7\\\\BI4313 Sem Project\\\\IN-comparative-analysis\\\\IN-comparative-analysis\\\\Trans_prob')"
   ]
  },
  {
   "cell_type": "code",
   "execution_count": 91,
   "metadata": {},
   "outputs": [],
   "source": [
    "file = pandas.read_csv('BF_b36p24_transition_probability.csv', header=None)\n",
    "df = file.to_numpy()\n",
    "\n",
    "#Drop the row and column labels, just keep the numeric values\n",
    "trans_prob = file.iloc[1:, 1:]\n",
    "trans_prob = np.array(trans_prob)\n",
    "trans_prob = trans_prob.astype(float)\n",
    "\n",
    "#Get the set of unique syllables for the individual with their own index (so convert array to list)\n",
    "uniq_syl = file.iloc[0].to_numpy()\n",
    "uniq_syl = np.delete(uniq_syl, 0)"
   ]
  },
  {
   "cell_type": "markdown",
   "metadata": {},
   "source": [
    "Sequence Linearity\n",
    "\n",
    "Number of unique syllables/Number of unique transitions"
   ]
  },
  {
   "cell_type": "code",
   "execution_count": 92,
   "metadata": {},
   "outputs": [
    {
     "name": "stdout",
     "output_type": "stream",
     "text": [
      "Number of syllables: 8\n",
      "Number of transitions: 30.0\n",
      "Sequence linearity: 0.26666666666666666\n"
     ]
    }
   ],
   "source": [
    "#SEQUENCE LINEARITY\n",
    "#Number of unique syllables\n",
    "n_syl = len(uniq_syl)\n",
    "\n",
    "#To get the number of unique transitions, create an array with 1 whenever trans_prob > 0\n",
    "#and get the sum of the array\n",
    "trans_num = np.zeros_like(trans_prob)\n",
    "trans_num[trans_prob > 0] = 1\n",
    "n_trans = sum(map(sum, trans_num))\n",
    "\n",
    "s_lin = n_syl/n_trans\n",
    "\n",
    "print(f'Number of syllables: {n_syl}')\n",
    "print(f'Number of transitions: {n_trans}')\n",
    "print(f'Sequence linearity: {s_lin}')\n"
   ]
  },
  {
   "cell_type": "markdown",
   "metadata": {},
   "source": [
    "Sequence Consistency\n",
    "\n",
    "Sum of typical transitions/Sum of all transitions"
   ]
  },
  {
   "cell_type": "code",
   "execution_count": 93,
   "metadata": {},
   "outputs": [
    {
     "name": "stdout",
     "output_type": "stream",
     "text": [
      "Sum of typical transitions: 4.680000000000001\n",
      "Sum of all transitions: 6.970000000000001\n",
      "Sequence consistency: 0.6714490674318508\n"
     ]
    }
   ],
   "source": [
    "#SEQUENCE CONSISTENCY\n",
    "#\"The typical transition type for each note is operationally defined as the one most frequently encountered \n",
    "#(for introductory notes, the two most frequently encountered).\"\n",
    "\n",
    "#numerator - sum of typical transitions\n",
    "typ_trans = np.max(trans_prob, axis = 1)\n",
    "typ_sum = sum(typ_trans)\n",
    "\n",
    "#denominator - sum of all transitions\n",
    "trans_sum = sum(map(sum, trans_prob))\n",
    "\n",
    "s_con = typ_sum/trans_sum\n",
    "\n",
    "print(f'Sum of typical transitions: {typ_sum}')\n",
    "print(f'Sum of all transitions: {trans_sum}')\n",
    "print(f'Sequence consistency: {s_con}')"
   ]
  },
  {
   "cell_type": "markdown",
   "metadata": {},
   "source": [
    "Sequence Stereotypy"
   ]
  },
  {
   "cell_type": "code",
   "execution_count": 94,
   "metadata": {},
   "outputs": [
    {
     "name": "stdout",
     "output_type": "stream",
     "text": [
      "Sequence stereotypy: 0.4690578670492588\n"
     ]
    }
   ],
   "source": [
    "#SEQUENCE STEREOTYPY\n",
    "\n",
    "s_stereo = (s_lin + s_con)/2\n",
    "\n",
    "print(f'Sequence stereotypy: {s_stereo}')"
   ]
  },
  {
   "cell_type": "markdown",
   "metadata": {},
   "source": [
    "Transition entropy\n",
    "\n",
    "sum (-p * log2[p])"
   ]
  },
  {
   "cell_type": "code",
   "execution_count": 95,
   "metadata": {},
   "outputs": [
    {
     "name": "stderr",
     "output_type": "stream",
     "text": [
      "C:\\Users\\VASUDH~1\\AppData\\Local\\Temp/ipykernel_3060/3832714603.py:8: RuntimeWarning: divide by zero encountered in log2\n",
      "  trans_entropy[i, j] = -trans_entropy[i, j] * np.log2(trans_entropy[i, j])\n",
      "C:\\Users\\VASUDH~1\\AppData\\Local\\Temp/ipykernel_3060/3832714603.py:8: RuntimeWarning: invalid value encountered in double_scalars\n",
      "  trans_entropy[i, j] = -trans_entropy[i, j] * np.log2(trans_entropy[i, j])\n"
     ]
    },
    {
     "data": {
      "text/plain": [
       "7.866267142040055"
      ]
     },
     "execution_count": 95,
     "metadata": {},
     "output_type": "execute_result"
    }
   ],
   "source": [
    "#TRANSITION ENTROPY\n",
    "from math import nan\n",
    "\n",
    "trans_entropy = trans_prob\n",
    "\n",
    "for i in range(len(trans_entropy)):\n",
    "    for j in range(len(trans_entropy)):\n",
    "        trans_entropy[i, j] = -trans_entropy[i, j] * np.log2(trans_entropy[i, j])\n",
    "\n",
    "trans_entropy[np.isnan(trans_entropy)] = 0\n",
    "transition_entropy = sum(map(sum, trans_entropy))\n",
    "\n",
    "transition_entropy"
   ]
  },
  {
   "cell_type": "code",
   "execution_count": 8,
   "metadata": {},
   "outputs": [],
   "source": [
    "#Test matrix\n",
    "#trans_prob = np.array([[1, 0, 0], [0, 0.5, 0], [0, 0, 0.25]])"
   ]
  },
  {
   "cell_type": "code",
   "execution_count": 3,
   "metadata": {},
   "outputs": [
    {
     "name": "stderr",
     "output_type": "stream",
     "text": [
      "C:\\Users\\VASUDH~1\\AppData\\Local\\Temp/ipykernel_3060/496419075.py:4: RuntimeWarning: divide by zero encountered in log2\n",
      "  z = -x[i] * np.log2(x[i])\n",
      "C:\\Users\\VASUDH~1\\AppData\\Local\\Temp/ipykernel_3060/496419075.py:4: RuntimeWarning: invalid value encountered in double_scalars\n",
      "  z = -x[i] * np.log2(x[i])\n"
     ]
    },
    {
     "data": {
      "image/png": "[encoded data removed]",
      "text/plain": [
       "<Figure size 432x288 with 1 Axes>"
      ]
     },
     "metadata": {
      "needs_background": "light"
     },
     "output_type": "display_data"
    }
   ],
   "source": [
    "\n",
    "x = np.arange(0, 1, 0.01)\n",
    "y = []\n",
    "for i in range(0, len(x)):\n",
    "    z = -x[i] * np.log2(x[i])\n",
    "    y.append(z)\n",
    "\n",
    "plt.xlabel('Transition probability')\n",
    "plt.ylabel('Transition entropy')\n",
    "plt.plot(x, y)\n",
    "plt.savefig('Transition entropy.png')"
   ]
  },
  {
   "cell_type": "markdown",
   "metadata": {},
   "source": [
    "To calculate differences in syllable types, and initial syllables, intersyllable interval, amplitude and so on. For that, we need to to go back to Onset-Offset data and chunk the song bouts using 'Start' and 'End'"
   ]
  },
  {
   "cell_type": "markdown",
   "metadata": {},
   "source": [
    "Number of starting syllables - value and fraction"
   ]
  },
  {
   "cell_type": "code",
   "execution_count": 96,
   "metadata": {},
   "outputs": [
    {
     "name": "stdout",
     "output_type": "stream",
     "text": [
      "Number of unique start syllables: 1.0\n",
      "Fraction of unique start syllables: 0.125\n"
     ]
    }
   ],
   "source": [
    "#To get the number of transitions from 'Start'\n",
    "\n",
    "syl_list = uniq_syl.tolist()\n",
    "s = syl_list.index('Start') #get the idex of 'Start' row\n",
    "\n",
    "#sum over Number of transitions matrix 'Start' row using the index\n",
    "n_start = np.sum(trans_num[s])\n",
    "\n",
    "print(f'Number of unique start syllables: {n_start}')\n",
    "print(f'Fraction of unique start syllables: {n_start/n_syl}')"
   ]
  },
  {
   "cell_type": "code",
   "execution_count": 97,
   "metadata": {},
   "outputs": [],
   "source": [
    "#Set directory for Onset-Offset files\n",
    "os.chdir('D:\\\\4th Year\\\\Semester 7\\\\BI4313 Sem Project\\\\IN-comparative-analysis\\\\IN-comparative-analysis\\\\OnsetOffsetFiles')\n",
    "\n",
    "#Import text file as csv, choose header false and give column names manually, because they don't seem to align\n",
    "#Use 'print(data.columns)' to get the list of column names\n",
    "data = pandas.read_csv('BF_brown36pink24_undirected_141015.txt', sep = '\\t', header=None, names = ['FileName', 'Syll #', 'Syll Label',\n",
    "       ' Syll Onset (ms)', ' Syll Offset (ms)', ' Syll Duration (sec)', ' Mean Frequency (Hz)',\n",
    "       ' Entropy', 'Log Amplitude (dB)', 'Pitch Goodness', 'FrequencyModulation',\n",
    "       'AmplitudeModulation', 'EntropyVariance'])\n",
    "\n",
    "#Drop the first row because column names are repeated there\n",
    "data = data.iloc[1:, :]\n",
    "\n",
    "#Convert onset, offset and syllable duration to float type\n",
    "data[' Syll Onset (ms)'] = data[' Syll Onset (ms)'].astype(float)\n",
    "data[' Syll Offset (ms)'] = data[' Syll Offset (ms)'].astype(float)\n",
    "data[' Syll Duration (sec)'] = data[' Syll Duration (sec)'].astype(float)\n",
    "#data[' Syll Offset (ms)']\n",
    "\n",
    "#Add a 'start' label in the beginning of the dataframe\n",
    "start_row = [0, 0, 'Start', 0, 0, 0, 0, 0, 0, 0, 0, 0, 0]\n",
    "data = pandas.DataFrame(np.insert(data.values, 0, start_row, axis=0))\n",
    "\n",
    "#Give column labels again\n",
    "data.columns = ['FileName', 'Syll #', 'Syll Label',\n",
    "       ' Syll Onset (ms)', ' Syll Offset (ms)', ' Syll Duration (sec)', ' Mean Frequency (Hz)',\n",
    "       ' Entropy', 'Log Amplitude (dB)', 'Pitch Goodness', 'FrequencyModulation',\n",
    "       'AmplitudeModulation', 'EntropyVariance']\n",
    "\n",
    "#To add a 'start' and 'end' in syllable label column after end of every bout\n",
    "\n",
    "t_offset = data[' Syll Offset (ms)']\n",
    "new_row = [[0, 0, 'End', 0, 0, 0, 0, 0, 0, 0, 0, 0, 0],\n",
    "        [0, 0, 'Start', 0, 0, 0, 0, 0, 0, 0, 0, 0, 0]]\n",
    "\n",
    "#Create a list of indices where the labels should be inserted\n",
    "#If the condition was just 'diff > 2000', the songs that start in the next file are not picked up\n",
    "#So, add the condition that there's a break when it moves from one file to another\n",
    "#Problem: This wouldn't work for songs that are split up across files\n",
    "\n",
    "index_list = []\n",
    "for i in range(1, len(data)-1):\n",
    "    diff = t_offset[i+1] - t_offset[i]\n",
    "    if diff > 2000 or diff < -8000:\n",
    "        index_list.append(i)\n",
    "#print(index_list)\n",
    "\n",
    "#So now we have a list of indices where 'start' row should be inserted\n",
    "#Adjust the index to correct for where the row will be inserted\n",
    "#'2i' because we're adding new rows, and '+1' because of the initial 'start' row\n",
    "for i in range(len(index_list)):\n",
    "    index_list[i] += (2*i + 1)\n",
    "\n",
    "#Insert the new_row at these indices\n",
    "#PS. If this doesn't make sense, remove the correction, do a simple for loop and see what happens\n",
    "for i in index_list:\n",
    "    data = pandas.DataFrame(np.insert(data.values, i, new_row, axis=0))\n",
    "\n",
    "#To add an 'End' label at the end\n",
    "end_row = [[0, 0, 'End', 0, 0, 0, 0, 0, 0, 0, 0, 0, 0]]\n",
    "data = pandas.DataFrame(np.insert(data.values, len(data), end_row, axis=0))\n",
    "\n",
    "#Give column labels again\n",
    "data.columns = ['FileName', 'Syll #', 'Syll Label',\n",
    "       ' Syll Onset (ms)', ' Syll Offset (ms)', ' Syll Duration (sec)', ' Mean Frequency (Hz)',\n",
    "       ' Entropy', 'Log Amplitude (dB)', 'Pitch Goodness', 'FrequencyModulation',\n",
    "       'AmplitudeModulation', 'EntropyVariance']\n",
    "\n",
    "#To confirm\n",
    "#print(data)\n",
    "#data.to_csv('BF_b36p24_trans_prob_start_end.csv', header = False, index = False)"
   ]
  },
  {
   "cell_type": "code",
   "execution_count": 98,
   "metadata": {},
   "outputs": [
    {
     "name": "stdout",
     "output_type": "stream",
     "text": [
      "[0, 139, 154, 289, 428, 561, 647, 789, 930, 1057, 1198, 1364, 1461, 1593, 1596, 1681, 1773, 1796, 1853, 1944, 2020, 2023, 2026, 2085, 2123, 2199, 2380, 2489, 2573, 2641, 2685, 2834]\n"
     ]
    }
   ],
   "source": [
    "#Get the indices at which 'End' exists to extract song bouts\n",
    "syl = data['Syll Label']\n",
    "all_syl = syl.tolist()\n",
    "\n",
    "def find_indices(list, element):\n",
    "    indices = [0]\n",
    "    for idx, value in enumerate(list):\n",
    "        if value == element:\n",
    "            indices.append(idx)\n",
    "    return indices\n",
    "\n",
    "end_indices = find_indices(all_syl, 'End')\n",
    "print(end_indices)\n",
    "\n",
    "song_bouts = []\n",
    "for i in range(len(end_indices)-1):\n",
    "    x = data.iloc[end_indices[i] + 2 : end_indices[i+1] - 1, :9]\n",
    "    song_bouts.append(x)"
   ]
  },
  {
   "cell_type": "code",
   "execution_count": 99,
   "metadata": {},
   "outputs": [
    {
     "name": "stdout",
     "output_type": "stream",
     "text": [
      "Number of song bouts is roughly about: 31\n"
     ]
    }
   ],
   "source": [
    "#To check how song data is being stored in the list, you can print it out in a text file or check the length \n",
    "#of the list\n",
    "\n",
    "#Except for the first song bout, every other song bout starts with a 'Start' row \n",
    "#To avoid this, first syllable of first song can be lost, which seems fairer\n",
    "with open(r'D:\\\\4th Year\\\\Semester 7\\\\BI4313 Sem Project\\\\IN-comparative-analysis\\\\IN-comparative-analysis\\\\OnsetOffsetFiles\\\\test_songbouts.txt', 'w') as fp:\n",
    "    for item in song_bouts:\n",
    "        fp.write(\"%s\\n\" % item)\n",
    "\n",
    "print(f'Number of song bouts is roughly about: {len(song_bouts)}')\n",
    "#Here, each element in the list is a Pandas dataframe"
   ]
  },
  {
   "cell_type": "code",
   "execution_count": 100,
   "metadata": {},
   "outputs": [
    {
     "name": "stdout",
     "output_type": "stream",
     "text": [
      "First syllable repeats: 5\n"
     ]
    }
   ],
   "source": [
    "bout = song_bouts[0]\n",
    "x = bout['Syll Label'].tolist()\n",
    "#print(x)\n",
    "\n",
    "for i in range(1, len(x)):\n",
    "    if x[i] != x[0]:\n",
    "        first_syllable_repeats = i\n",
    "        break\n",
    "\n",
    "print(f'First syllable repeats: {first_syllable_repeats}')\n"
   ]
  },
  {
   "cell_type": "markdown",
   "metadata": {},
   "source": [
    "1. Do the first syllables repeat in each song bout? \n",
    "2. Average number of syllables in each song bout"
   ]
  },
  {
   "cell_type": "code",
   "execution_count": 112,
   "metadata": {},
   "outputs": [
    {
     "name": "stdout",
     "output_type": "stream",
     "text": [
      "24 [136, 12, 132, 136, 130, 83, 139, 138, 124, 138, 163, 94, 129, 0, 82, 89, 20, 54, 88, 73, 0, 0, 56, 35, 73, 178, 106, 81, 65, 41, 146]\n",
      "Average number of syllables in a song bout: 88.41935483870968\n",
      "Fraction of times the first syllable is repeated: 0.8571428571428571\n"
     ]
    }
   ],
   "source": [
    "#To calculate if the first syllable repeats, and if yes, how many times?\n",
    "#Also get the number of syllables in each song\n",
    "\n",
    "repeat_y_n = []\n",
    "syll_num = []\n",
    "\n",
    "for i in range(len(song_bouts)):\n",
    "    bout = song_bouts[i]\n",
    "    syllable_list = bout['Syll Label'].tolist()\n",
    "    syll_num.append(len(syllable_list))\n",
    "    if len(syllable_list) > 3:\n",
    "        if syllable_list[0] == syllable_list[1]:\n",
    "            repeat_y_n.append(1)\n",
    "        else:\n",
    "            repeat_y_n.append(0)\n",
    "\n",
    "print(sum(repeat_y_n), repeat_y_n, syll_num)\n",
    "print(f'Average number of syllables in a song bout: {np.mean(syll_num)}')\n",
    "print(f'Fraction of times the first syllable is repeated: {sum(repeat_y_n)/len(repeat_y_n)}')\n"
   ]
  },
  {
   "cell_type": "markdown",
   "metadata": {},
   "source": [
    "3. Number of times the first syllable in a song bout repeats"
   ]
  },
  {
   "cell_type": "code",
   "execution_count": 113,
   "metadata": {},
   "outputs": [
    {
     "name": "stdout",
     "output_type": "stream",
     "text": [
      "[5, 3, 2, 3, 4, 3, 4, 5, 3, 1, 2, 2, 3, 3, 8, 2, 2, 3, 6, 3, 3, 3, 1, 2, 2, 1, 1, 2, 2, 2, 3]\n",
      "Average number of repeats of first syllable is: 2.870967741935484\n",
      "31\n"
     ]
    }
   ],
   "source": [
    "#To count the number of repeated syllables in the beginning\n",
    "repeat_num = []\n",
    "\n",
    "for i in range(len(song_bouts)):\n",
    "    bout = song_bouts[i]\n",
    "    syllable_list = bout['Syll Label'].tolist()\n",
    "    for t in range(1, len(syllable_list)):\n",
    "        if syllable_list[t] != syllable_list[0]:\n",
    "            first_syllable_repeats = t\n",
    "            break\n",
    "    repeat_num.append(first_syllable_repeats)\n",
    "\n",
    "print(repeat_num)\n",
    "print(f'Average number of repeats of first syllable is: {np.mean(repeat_num)}')\n",
    "print(len(repeat_num))"
   ]
  },
  {
   "cell_type": "markdown",
   "metadata": {},
   "source": [
    "Instead of counting the number of repeats in each song bout, we can also get the weighted average of self-transition probability of the starting syllables"
   ]
  },
  {
   "cell_type": "code",
   "execution_count": 76,
   "metadata": {},
   "outputs": [
    {
     "name": "stdout",
     "output_type": "stream",
     "text": [
      "[0.16]\n",
      "0.16\n"
     ]
    }
   ],
   "source": [
    "#To find the average self-transition probability of the first syllables after start\n",
    "syl_list = uniq_syl.tolist()\n",
    "s = syl_list.index('Start')\n",
    "\n",
    "def find_indices(list, element):\n",
    "    indices = []\n",
    "    for idx, value in enumerate(list):\n",
    "        if value == element:\n",
    "            indices.append(idx)\n",
    "    return indices\n",
    "\n",
    "first_syl = trans_num[s].tolist()\n",
    "first_syl_idx = find_indices(first_syl, 1)\n",
    "\n",
    "first_syl_trans = []\n",
    "for i in range(len(first_syl_idx)):\n",
    "    t = first_syl_idx[i]\n",
    "    first_syl_trans.append(trans_prob[t,t]*trans_prob[s,t])\n",
    "\n",
    "print(first_syl_trans)\n",
    "print(np.mean(first_syl_trans))"
   ]
  }
 ],
 "metadata": {
  "kernelspec": {
   "display_name": "Python 3.9.7 ('base')",
   "language": "python",
   "name": "python3"
  },
  "language_info": {
   "codemirror_mode": {
    "name": "ipython",
    "version": 3
   },
   "file_extension": ".py",
   "mimetype": "text/x-python",
   "name": "python",
   "nbconvert_exporter": "python",
   "pygments_lexer": "ipython3",
   "version": "3.9.7"
  },
  "orig_nbformat": 4,
  "vscode": {
   "interpreter": {
    "hash": "008563563e781916d6359c24295d5508987d9d4a8f497f916ed83e23a440f2f0"
   }
  }
 },
 "nbformat": 4,
 "nbformat_minor": 2
}
